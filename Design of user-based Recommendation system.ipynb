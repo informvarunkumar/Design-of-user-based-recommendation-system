{
 "cells": [
  {
   "cell_type": "code",
   "execution_count": 1,
   "metadata": {
    "slideshow": {
     "slide_type": "slide"
    }
   },
   "outputs": [
    {
     "name": "stderr",
     "output_type": "stream",
     "text": [
      "C:\\Users\\admin\\Anaconda3\\lib\\site-packages\\fuzzywuzzy\\fuzz.py:11: UserWarning: Using slow pure-python SequenceMatcher. Install python-Levenshtein to remove this warning\n",
      "  warnings.warn('Using slow pure-python SequenceMatcher. Install python-Levenshtein to remove this warning')\n"
     ]
    }
   ],
   "source": [
    "from datetime import datetime\n",
    "import time\n",
    "import pandas as pd\n",
    "import numpy as np\n",
    "import seaborn as sns\n",
    "import sys\n",
    "from termcolor import cprint\n",
    "sns.set_style(\"whitegrid\")\n",
    "import os\n",
    "import random\n",
    "import matplotlib\n",
    "import matplotlib.pyplot as plt\n",
    "from fuzzywuzzy import fuzz\n",
    "from scipy import sparse\n",
    "from scipy.sparse import csr_matrix\n",
    "from sklearn.metrics.pairwise import cosine_similarity\n",
    "from sklearn.neighbors import NearestNeighbors\n",
    "from sklearn.tree import DecisionTreeClassifier\n",
    "\n",
    "\n"
   ]
  },
  {
   "cell_type": "code",
   "execution_count": 2,
   "metadata": {
    "slideshow": {
     "slide_type": "slide"
    }
   },
   "outputs": [
    {
     "name": "stdout",
     "output_type": "stream",
     "text": [
      "Wall time: 0 ns\n"
     ]
    }
   ],
   "source": [
    "%%time\n",
    "#if data.csv not exist it will go inside if\n",
    "if not os.path.isfile('data.csv'):\n",
    "    # Create a file 'data.csv' before reading it\n",
    "    # Read all the files in netflix and store them in one big file('data.csv')\n",
    "    # We re reading from each of the four files and appendig each rating to a global file 'train.csv'\n",
    "    data = open('data.csv', mode='w')\n",
    "    files = ['combined_data_1.txt','combined_data_2.txt','combined_data_3.txt','combined_data_4.txt']\n",
    "    row = list()\n",
    "    \n",
    "    for file in files:\n",
    "        print(\"Reading ratings from {}...\".format(file))\n",
    "        with open(file) as f:\n",
    "            for line in f: \n",
    "                del row[:] # you don't have to do this.\n",
    "                line = line.strip()\n",
    "                if line.endswith(':'):\n",
    "                    # All below are ratings for this movie, until another movie appears.\n",
    "                    movie_id = line.replace(':', '')\n",
    "                else:\n",
    "                    row = [x for x in line.split(',')]\n",
    "                    row.insert(0, movie_id)\n",
    "                    data.write(','.join(row))\n",
    "                    data.write('\\n')\n",
    "        print(\"Done.\\n\")\n",
    "    data.close()\n"
   ]
  },
  {
   "cell_type": "code",
   "execution_count": 3,
   "metadata": {},
   "outputs": [],
   "source": [
    "# creating data frame from our output csv file.\n",
    "if not os.path.isfile(\"NetflixData.pkl\"):\n",
    "    startTime = datetime.now()\n",
    "    Final_Data = pd.read_csv(\"data.csv\", sep=\",\", names = [\"MovieID\",\"CustID\", \"Ratings\", \"Date\"])\n",
    "    Final_Data[\"Date\"] = pd.to_datetime(Final_Data[\"Date\"])\n",
    "    Final_Data.sort_values(by = \"Date\", inplace = True)\n",
    "    print(\"Time taken for execution of above code = \"+str(datetime.now() - startTime))"
   ]
  },
  {
   "cell_type": "code",
   "execution_count": 114,
   "metadata": {},
   "outputs": [],
   "source": [
    "# storing pandas dataframe as a picklefile for later use\n",
    "if not os.path.isfile(\"NetflixData.pkl\"):\n",
    "    Final_Data.to_pickle(\"NetflixData.pkl\")\n",
    "else:\n",
    "    Final_Data = pd.read_pickle(\"NetflixData.pkl\")"
   ]
  },
  {
   "cell_type": "code",
   "execution_count": 5,
   "metadata": {
    "scrolled": false
   },
   "outputs": [
    {
     "data": {
      "text/html": [
       "<div>\n",
       "<style scoped>\n",
       "    .dataframe tbody tr th:only-of-type {\n",
       "        vertical-align: middle;\n",
       "    }\n",
       "\n",
       "    .dataframe tbody tr th {\n",
       "        vertical-align: top;\n",
       "    }\n",
       "\n",
       "    .dataframe thead th {\n",
       "        text-align: right;\n",
       "    }\n",
       "</style>\n",
       "<table border=\"1\" class=\"dataframe\">\n",
       "  <thead>\n",
       "    <tr style=\"text-align: right;\">\n",
       "      <th></th>\n",
       "      <th>MovieID</th>\n",
       "      <th>CustID</th>\n",
       "      <th>Ratings</th>\n",
       "      <th>Date</th>\n",
       "    </tr>\n",
       "  </thead>\n",
       "  <tbody>\n",
       "    <tr>\n",
       "      <th>56431994</th>\n",
       "      <td>10341</td>\n",
       "      <td>510180</td>\n",
       "      <td>4</td>\n",
       "      <td>1999-11-11</td>\n",
       "    </tr>\n",
       "    <tr>\n",
       "      <th>9056171</th>\n",
       "      <td>1798</td>\n",
       "      <td>510180</td>\n",
       "      <td>5</td>\n",
       "      <td>1999-11-11</td>\n",
       "    </tr>\n",
       "    <tr>\n",
       "      <th>58698779</th>\n",
       "      <td>10774</td>\n",
       "      <td>510180</td>\n",
       "      <td>3</td>\n",
       "      <td>1999-11-11</td>\n",
       "    </tr>\n",
       "    <tr>\n",
       "      <th>48101611</th>\n",
       "      <td>8651</td>\n",
       "      <td>510180</td>\n",
       "      <td>2</td>\n",
       "      <td>1999-11-11</td>\n",
       "    </tr>\n",
       "    <tr>\n",
       "      <th>81893208</th>\n",
       "      <td>14660</td>\n",
       "      <td>510180</td>\n",
       "      <td>2</td>\n",
       "      <td>1999-11-11</td>\n",
       "    </tr>\n",
       "  </tbody>\n",
       "</table>\n",
       "</div>"
      ],
      "text/plain": [
       "          MovieID  CustID  Ratings       Date\n",
       "56431994    10341  510180        4 1999-11-11\n",
       "9056171      1798  510180        5 1999-11-11\n",
       "58698779    10774  510180        3 1999-11-11\n",
       "48101611     8651  510180        2 1999-11-11\n",
       "81893208    14660  510180        2 1999-11-11"
      ]
     },
     "execution_count": 5,
     "metadata": {},
     "output_type": "execute_result"
    }
   ],
   "source": [
    "Final_Data.head()"
   ]
  },
  {
   "cell_type": "code",
   "execution_count": 119,
   "metadata": {},
   "outputs": [
    {
     "data": {
      "text/plain": [
       "(100480507, 4)"
      ]
     },
     "execution_count": 119,
     "metadata": {},
     "output_type": "execute_result"
    }
   ],
   "source": [
    "Final_Data.shape"
   ]
  },
  {
   "cell_type": "code",
   "execution_count": 12,
   "metadata": {},
   "outputs": [],
   "source": [
    "#Remove after all the analysis\n",
    "Final_Data=Final_Data.head(900000)"
   ]
  },
  {
   "cell_type": "code",
   "execution_count": 10,
   "metadata": {},
   "outputs": [
    {
     "data": {
      "text/html": [
       "<div>\n",
       "<style scoped>\n",
       "    .dataframe tbody tr th:only-of-type {\n",
       "        vertical-align: middle;\n",
       "    }\n",
       "\n",
       "    .dataframe tbody tr th {\n",
       "        vertical-align: top;\n",
       "    }\n",
       "\n",
       "    .dataframe thead th {\n",
       "        text-align: right;\n",
       "    }\n",
       "</style>\n",
       "<table border=\"1\" class=\"dataframe\">\n",
       "  <thead>\n",
       "    <tr style=\"text-align: right;\">\n",
       "      <th></th>\n",
       "      <th>MovieID</th>\n",
       "      <th>CustID</th>\n",
       "      <th>Ratings</th>\n",
       "      <th>Date</th>\n",
       "    </tr>\n",
       "  </thead>\n",
       "  <tbody>\n",
       "    <tr>\n",
       "      <th>10820234</th>\n",
       "      <td>2122</td>\n",
       "      <td>2621913</td>\n",
       "      <td>1</td>\n",
       "      <td>2000-12-26</td>\n",
       "    </tr>\n",
       "    <tr>\n",
       "      <th>47539569</th>\n",
       "      <td>8585</td>\n",
       "      <td>757756</td>\n",
       "      <td>3</td>\n",
       "      <td>2000-12-26</td>\n",
       "    </tr>\n",
       "    <tr>\n",
       "      <th>14437547</th>\n",
       "      <td>2782</td>\n",
       "      <td>757756</td>\n",
       "      <td>4</td>\n",
       "      <td>2000-12-26</td>\n",
       "    </tr>\n",
       "    <tr>\n",
       "      <th>65285375</th>\n",
       "      <td>11929</td>\n",
       "      <td>680622</td>\n",
       "      <td>4</td>\n",
       "      <td>2000-12-26</td>\n",
       "    </tr>\n",
       "    <tr>\n",
       "      <th>81302190</th>\n",
       "      <td>14601</td>\n",
       "      <td>408200</td>\n",
       "      <td>5</td>\n",
       "      <td>2000-12-26</td>\n",
       "    </tr>\n",
       "  </tbody>\n",
       "</table>\n",
       "</div>"
      ],
      "text/plain": [
       "          MovieID   CustID  Ratings       Date\n",
       "10820234     2122  2621913        1 2000-12-26\n",
       "47539569     8585   757756        3 2000-12-26\n",
       "14437547     2782   757756        4 2000-12-26\n",
       "65285375    11929   680622        4 2000-12-26\n",
       "81302190    14601   408200        5 2000-12-26"
      ]
     },
     "execution_count": 10,
     "metadata": {},
     "output_type": "execute_result"
    }
   ],
   "source": [
    "Final_Data.tail()"
   ]
  },
  {
   "cell_type": "code",
   "execution_count": 122,
   "metadata": {},
   "outputs": [
    {
     "data": {
      "text/plain": [
       "count    1.004805e+08\n",
       "mean     3.604290e+00\n",
       "std      1.085219e+00\n",
       "min      1.000000e+00\n",
       "25%      3.000000e+00\n",
       "50%      4.000000e+00\n",
       "75%      4.000000e+00\n",
       "max      5.000000e+00\n",
       "Name: Ratings, dtype: float64"
      ]
     },
     "execution_count": 122,
     "metadata": {},
     "output_type": "execute_result"
    }
   ],
   "source": [
    "\n",
    "Final_Data.describe()[\"Ratings\"]"
   ]
  },
  {
   "cell_type": "code",
   "execution_count": 8,
   "metadata": {},
   "outputs": [
    {
     "data": {
      "text/plain": [
       "MovieID    0\n",
       "CustID     0\n",
       "Ratings    0\n",
       "Date       0\n",
       "dtype: int64"
      ]
     },
     "execution_count": 8,
     "metadata": {},
     "output_type": "execute_result"
    }
   ],
   "source": [
    "#Checking the null values\n",
    "Final_Data.isnull().sum()"
   ]
  },
  {
   "cell_type": "code",
   "execution_count": 8,
   "metadata": {
    "scrolled": true
   },
   "outputs": [
    {
     "name": "stdout",
     "output_type": "stream",
     "text": [
      "Number of Duplicate rows : 0\n"
     ]
    }
   ],
   "source": [
    "print(\"Number of Duplicate rows : \"+str(Final_Data.duplicated([\"MovieID\",\"CustID\",\"Ratings\"]).sum()))"
   ]
  },
  {
   "cell_type": "code",
   "execution_count": 9,
   "metadata": {},
   "outputs": [
    {
     "data": {
      "image/png": "[encoded data removed]",
      "text/plain": [
       "<Figure size 720x576 with 1 Axes>"
      ]
     },
     "metadata": {
      "needs_background": "light"
     },
     "output_type": "display_data"
    },
    {
     "name": "stdout",
     "output_type": "stream",
     "text": [
      "Wall time: 4.77 s\n"
     ]
    }
   ],
   "source": [
    "%%time \n",
    "plt.figure(figsize = (10, 8))\n",
    "ax = sns.countplot(x=\"Ratings\", data=Final_Data)\n",
    "ax.set_yticklabels([changingLabels(num) for num in ax.get_yticks()])\n",
    "plt.tick_params(labelsize = 15)\n",
    "plt.title(\"Distribution of Ratings \", fontsize = 20)\n",
    "plt.xlabel(\"Ratings\", fontsize = 20)\n",
    "plt.ylabel(\"Number of Ratings(Millions)\", fontsize = 20)\n",
    "plt.grid()\n",
    "plt.show()"
   ]
  },
  {
   "cell_type": "markdown",
   "metadata": {},
   "source": [
    "# Basic Statistics"
   ]
  },
  {
   "cell_type": "code",
   "execution_count": 8,
   "metadata": {},
   "outputs": [
    {
     "name": "stdout",
     "output_type": "stream",
     "text": [
      "Total Data:\n",
      "Total number of movie ratings = 900000\n",
      "Number of unique users = 8047\n",
      "Number of unique movies = 4427\n"
     ]
    }
   ],
   "source": [
    "print(\"Total Data:\")\n",
    "print(\"Total number of movie ratings = \"+str(Final_Data.shape[0]))\n",
    "print(\"Number of unique users = \"+str(len(np.unique(Final_Data[\"CustID\"]))))\n",
    "print(\"Number of unique movies = \"+str(len(np.unique(Final_Data[\"MovieID\"]))))"
   ]
  },
  {
   "cell_type": "markdown",
   "metadata": {},
   "source": [
    "# Split the dataset into 70:30"
   ]
  },
  {
   "cell_type": "code",
   "execution_count": 115,
   "metadata": {},
   "outputs": [],
   "source": [
    "from sklearn.model_selection import train_test_split"
   ]
  },
  {
   "cell_type": "code",
   "execution_count": 116,
   "metadata": {},
   "outputs": [
    {
     "name": "stdout",
     "output_type": "stream",
     "text": [
      "Wall time: 15.1 s\n"
     ]
    }
   ],
   "source": [
    "%%time\n",
    "X_train,X_test=train_test_split(Final_Data,test_size=0.3)"
   ]
  },
  {
   "cell_type": "markdown",
   "metadata": {},
   "source": [
    "# Train Data"
   ]
  },
  {
   "cell_type": "code",
   "execution_count": 15,
   "metadata": {},
   "outputs": [
    {
     "data": {
      "text/html": [
       "<div>\n",
       "<style scoped>\n",
       "    .dataframe tbody tr th:only-of-type {\n",
       "        vertical-align: middle;\n",
       "    }\n",
       "\n",
       "    .dataframe tbody tr th {\n",
       "        vertical-align: top;\n",
       "    }\n",
       "\n",
       "    .dataframe thead th {\n",
       "        text-align: right;\n",
       "    }\n",
       "</style>\n",
       "<table border=\"1\" class=\"dataframe\">\n",
       "  <thead>\n",
       "    <tr style=\"text-align: right;\">\n",
       "      <th></th>\n",
       "      <th>MovieID</th>\n",
       "      <th>CustID</th>\n",
       "      <th>Ratings</th>\n",
       "      <th>Date</th>\n",
       "    </tr>\n",
       "  </thead>\n",
       "  <tbody>\n",
       "    <tr>\n",
       "      <th>42655760</th>\n",
       "      <td>7563</td>\n",
       "      <td>2345485</td>\n",
       "      <td>4</td>\n",
       "      <td>2000-01-06</td>\n",
       "    </tr>\n",
       "    <tr>\n",
       "      <th>53833252</th>\n",
       "      <td>9788</td>\n",
       "      <td>1192830</td>\n",
       "      <td>2</td>\n",
       "      <td>2000-01-05</td>\n",
       "    </tr>\n",
       "    <tr>\n",
       "      <th>95082760</th>\n",
       "      <td>16879</td>\n",
       "      <td>1317086</td>\n",
       "      <td>4</td>\n",
       "      <td>1999-12-30</td>\n",
       "    </tr>\n",
       "    <tr>\n",
       "      <th>50174380</th>\n",
       "      <td>9049</td>\n",
       "      <td>802939</td>\n",
       "      <td>1</td>\n",
       "      <td>2000-01-05</td>\n",
       "    </tr>\n",
       "    <tr>\n",
       "      <th>77559389</th>\n",
       "      <td>14109</td>\n",
       "      <td>1611303</td>\n",
       "      <td>3</td>\n",
       "      <td>2000-01-05</td>\n",
       "    </tr>\n",
       "  </tbody>\n",
       "</table>\n",
       "</div>"
      ],
      "text/plain": [
       "          MovieID   CustID  Ratings       Date\n",
       "42655760     7563  2345485        4 2000-01-06\n",
       "53833252     9788  1192830        2 2000-01-05\n",
       "95082760    16879  1317086        4 1999-12-30\n",
       "50174380     9049   802939        1 2000-01-05\n",
       "77559389    14109  1611303        3 2000-01-05"
      ]
     },
     "execution_count": 15,
     "metadata": {},
     "output_type": "execute_result"
    }
   ],
   "source": [
    "X_train.head()"
   ]
  },
  {
   "cell_type": "code",
   "execution_count": 13,
   "metadata": {},
   "outputs": [
    {
     "name": "stdout",
     "output_type": "stream",
     "text": [
      "Total Train Data:\n",
      "Total number of movie ratings in train data = 70336354\n",
      "Number of unique users in train data = 479561\n",
      "Number of unique movies in train data = 17770\n",
      "Highest value of a User ID = 2649429\n",
      "Highest value of a Movie ID = 17770\n"
     ]
    }
   ],
   "source": [
    "print(\"Total Train Data:\")\n",
    "print(\"Total number of movie ratings in train data = \"+str(X_train.shape[0]))\n",
    "print(\"Number of unique users in train data = \"+str(len(np.unique(X_train[\"CustID\"]))))\n",
    "print(\"Number of unique movies in train data = \"+str(len(np.unique(X_train[\"MovieID\"]))))\n",
    "print(\"Highest value of a User ID = \"+str(max(X_train[\"CustID\"].values)))\n",
    "print(\"Highest value of a Movie ID = \"+str(max(X_train[\"MovieID\"].values)))"
   ]
  },
  {
   "cell_type": "markdown",
   "metadata": {},
   "source": [
    "# Test Data"
   ]
  },
  {
   "cell_type": "code",
   "execution_count": 14,
   "metadata": {},
   "outputs": [
    {
     "data": {
      "text/html": [
       "<div>\n",
       "<style scoped>\n",
       "    .dataframe tbody tr th:only-of-type {\n",
       "        vertical-align: middle;\n",
       "    }\n",
       "\n",
       "    .dataframe tbody tr th {\n",
       "        vertical-align: top;\n",
       "    }\n",
       "\n",
       "    .dataframe thead th {\n",
       "        text-align: right;\n",
       "    }\n",
       "</style>\n",
       "<table border=\"1\" class=\"dataframe\">\n",
       "  <thead>\n",
       "    <tr style=\"text-align: right;\">\n",
       "      <th></th>\n",
       "      <th>MovieID</th>\n",
       "      <th>CustID</th>\n",
       "      <th>Ratings</th>\n",
       "      <th>Date</th>\n",
       "    </tr>\n",
       "  </thead>\n",
       "  <tbody>\n",
       "    <tr>\n",
       "      <th>54417648</th>\n",
       "      <td>9916</td>\n",
       "      <td>1014606</td>\n",
       "      <td>5</td>\n",
       "      <td>2005-09-09</td>\n",
       "    </tr>\n",
       "    <tr>\n",
       "      <th>78622567</th>\n",
       "      <td>14274</td>\n",
       "      <td>1028385</td>\n",
       "      <td>3</td>\n",
       "      <td>2005-09-26</td>\n",
       "    </tr>\n",
       "    <tr>\n",
       "      <th>16913468</th>\n",
       "      <td>3282</td>\n",
       "      <td>1986710</td>\n",
       "      <td>1</td>\n",
       "      <td>2005-10-16</td>\n",
       "    </tr>\n",
       "    <tr>\n",
       "      <th>7211576</th>\n",
       "      <td>1435</td>\n",
       "      <td>2233410</td>\n",
       "      <td>3</td>\n",
       "      <td>2005-12-06</td>\n",
       "    </tr>\n",
       "    <tr>\n",
       "      <th>57442230</th>\n",
       "      <td>10461</td>\n",
       "      <td>138835</td>\n",
       "      <td>3</td>\n",
       "      <td>2004-11-16</td>\n",
       "    </tr>\n",
       "  </tbody>\n",
       "</table>\n",
       "</div>"
      ],
      "text/plain": [
       "          MovieID   CustID  Ratings       Date\n",
       "54417648     9916  1014606        5 2005-09-09\n",
       "78622567    14274  1028385        3 2005-09-26\n",
       "16913468     3282  1986710        1 2005-10-16\n",
       "7211576      1435  2233410        3 2005-12-06\n",
       "57442230    10461   138835        3 2004-11-16"
      ]
     },
     "execution_count": 14,
     "metadata": {},
     "output_type": "execute_result"
    }
   ],
   "source": [
    "X_test.head()"
   ]
  },
  {
   "cell_type": "code",
   "execution_count": 15,
   "metadata": {},
   "outputs": [
    {
     "name": "stdout",
     "output_type": "stream",
     "text": [
      "Total Test Data:\n",
      "Total number of movie ratings in Test data = 30144153\n",
      "Number of unique users in Test data = 475966\n",
      "Number of unique movies in Test data = 17770\n",
      "Highest value of a User ID = 2649429\n",
      "Highest value of a Movie ID = 17770\n"
     ]
    }
   ],
   "source": [
    "print(\"Total Test Data:\")\n",
    "print(\"Total number of movie ratings in Test data = \"+str(X_test.shape[0]))\n",
    "print(\"Number of unique users in Test data = \"+str(len(np.unique(X_test[\"CustID\"]))))\n",
    "print(\"Number of unique movies in Test data = \"+str(len(np.unique(X_test[\"MovieID\"]))))\n",
    "print(\"Highest value of a User ID = \"+str(max(X_test[\"CustID\"].values)))\n",
    "print(\"Highest value of a Movie ID = \"+str(max(X_test[\"MovieID\"].values)))"
   ]
  },
  {
   "cell_type": "code",
   "execution_count": 7,
   "metadata": {},
   "outputs": [],
   "source": [
    "def changingLabels(number):\n",
    "    return str(number/10**6) + \"M\"\n"
   ]
  },
  {
   "cell_type": "code",
   "execution_count": 8,
   "metadata": {},
   "outputs": [
    {
     "data": {
      "image/png": "[encoded data removed]",
      "text/plain": [
       "<Figure size 864x576 with 1 Axes>"
      ]
     },
     "metadata": {
      "needs_background": "light"
     },
     "output_type": "display_data"
    }
   ],
   "source": [
    "plt.figure(figsize = (12, 8))\n",
    "ax = sns.countplot(x=\"Ratings\", data=X_train)\n",
    "ax.set_yticklabels([changingLabels(num) for num in ax.get_yticks()])\n",
    "plt.tick_params(labelsize = 15)\n",
    "plt.title(\"Distribution of Ratings in train data\", fontsize = 20)\n",
    "plt.xlabel(\"Ratings\", fontsize = 20)\n",
    "plt.ylabel(\"Number of Ratings(Millions)\", fontsize = 20)\n",
    "plt.show()"
   ]
  },
  {
   "cell_type": "code",
   "execution_count": 117,
   "metadata": {},
   "outputs": [
    {
     "name": "stderr",
     "output_type": "stream",
     "text": [
      "C:\\Users\\admin\\Anaconda3\\lib\\site-packages\\ipykernel_launcher.py:1: SettingWithCopyWarning: \n",
      "A value is trying to be set on a copy of a slice from a DataFrame.\n",
      "Try using .loc[row_indexer,col_indexer] = value instead\n",
      "\n",
      "See the caveats in the documentation: http://pandas.pydata.org/pandas-docs/stable/indexing.html#indexing-view-versus-copy\n",
      "  \"\"\"Entry point for launching an IPython kernel.\n"
     ]
    }
   ],
   "source": [
    "X_train[\"DayOfWeek\"] = X_train.Date.dt.weekday_name"
   ]
  },
  {
   "cell_type": "code",
   "execution_count": 118,
   "metadata": {
    "scrolled": true
   },
   "outputs": [
    {
     "data": {
      "text/plain": [
       "Date\n",
       "Monday       12125092\n",
       "Tuesday      12448868\n",
       "Wednesday    11718096\n",
       "Thursday     10132714\n",
       "Friday        9383016\n",
       "Saturday      7019355\n",
       "Sunday        7509213\n",
       "Name: Ratings, dtype: int64"
      ]
     },
     "execution_count": 118,
     "metadata": {},
     "output_type": "execute_result"
    }
   ],
   "source": [
    "days = [ 'Monday', 'Tuesday', 'Wednesday', 'Thursday', 'Friday', 'Saturday', 'Sunday']\n",
    "# create a new data frame with the death counts grouped by day of the week \n",
    "# reindex is used to order the week days in a logical order (learned from https://stackoverflow.com/questions/47741400/pandas-dataframe-group-and-sort-by-weekday)\n",
    "df_weekday = X_train[\"Ratings\"].copy().groupby(X_train['Date'].dt.weekday_name).count().reindex(days)\n",
    "df_weekday"
   ]
  },
  {
   "cell_type": "code",
   "execution_count": 119,
   "metadata": {},
   "outputs": [],
   "source": [
    "df_weekday=pd.DataFrame(df_weekday,index=None,columns=None)"
   ]
  },
  {
   "cell_type": "code",
   "execution_count": 125,
   "metadata": {
    "scrolled": true
   },
   "outputs": [
    {
     "data": {
      "text/html": [
       "<div>\n",
       "<style scoped>\n",
       "    .dataframe tbody tr th:only-of-type {\n",
       "        vertical-align: middle;\n",
       "    }\n",
       "\n",
       "    .dataframe tbody tr th {\n",
       "        vertical-align: top;\n",
       "    }\n",
       "\n",
       "    .dataframe thead th {\n",
       "        text-align: right;\n",
       "    }\n",
       "</style>\n",
       "<table border=\"1\" class=\"dataframe\">\n",
       "  <thead>\n",
       "    <tr style=\"text-align: right;\">\n",
       "      <th></th>\n",
       "      <th>Date</th>\n",
       "      <th>Ratings</th>\n",
       "    </tr>\n",
       "  </thead>\n",
       "  <tbody>\n",
       "    <tr>\n",
       "      <th>0</th>\n",
       "      <td>Monday</td>\n",
       "      <td>12125092</td>\n",
       "    </tr>\n",
       "    <tr>\n",
       "      <th>1</th>\n",
       "      <td>Tuesday</td>\n",
       "      <td>12448868</td>\n",
       "    </tr>\n",
       "    <tr>\n",
       "      <th>2</th>\n",
       "      <td>Wednesday</td>\n",
       "      <td>11718096</td>\n",
       "    </tr>\n",
       "    <tr>\n",
       "      <th>3</th>\n",
       "      <td>Thursday</td>\n",
       "      <td>10132714</td>\n",
       "    </tr>\n",
       "    <tr>\n",
       "      <th>4</th>\n",
       "      <td>Friday</td>\n",
       "      <td>9383016</td>\n",
       "    </tr>\n",
       "    <tr>\n",
       "      <th>5</th>\n",
       "      <td>Saturday</td>\n",
       "      <td>7019355</td>\n",
       "    </tr>\n",
       "    <tr>\n",
       "      <th>6</th>\n",
       "      <td>Sunday</td>\n",
       "      <td>7509213</td>\n",
       "    </tr>\n",
       "  </tbody>\n",
       "</table>\n",
       "</div>"
      ],
      "text/plain": [
       "        Date   Ratings\n",
       "0     Monday  12125092\n",
       "1    Tuesday  12448868\n",
       "2  Wednesday  11718096\n",
       "3   Thursday  10132714\n",
       "4     Friday   9383016\n",
       "5   Saturday   7019355\n",
       "6     Sunday   7509213"
      ]
     },
     "execution_count": 125,
     "metadata": {},
     "output_type": "execute_result"
    }
   ],
   "source": [
    "df_weekday"
   ]
  },
  {
   "cell_type": "code",
   "execution_count": 121,
   "metadata": {},
   "outputs": [],
   "source": [
    "df_weekday=df_weekday.reset_index()"
   ]
  },
  {
   "cell_type": "markdown",
   "metadata": {},
   "source": [
    "### Analysis of Movie Ratings on Day of Week"
   ]
  },
  {
   "cell_type": "code",
   "execution_count": 126,
   "metadata": {},
   "outputs": [
    {
     "data": {
      "image/png": "[encoded data removed]",
      "text/plain": [
       "<Figure size 864x576 with 1 Axes>"
      ]
     },
     "metadata": {
      "needs_background": "light"
     },
     "output_type": "display_data"
    }
   ],
   "source": [
    "plt.figure(figsize = (12,8))\n",
    "axy=sns.barplot(x=\"Date\", y=\"Ratings\", data=df_weekday)\n",
    "axy.set_title(\"Number of Ratings per Day\", fontsize = 20)\n",
    "axy.set_xlabel(\"WeekDays\", fontsize = 20)\n",
    "axy.set_ylabel(\"Number of Ratings Per Day(Millions)\", fontsize = 20)\n",
    "axy.set_yticklabels([changingLabels(num) for num in axy.get_yticks()])\n",
    "axy.tick_params(labelsize = 15)\n",
    "plt.grid()"
   ]
  },
  {
   "cell_type": "code",
   "execution_count": null,
   "metadata": {
    "scrolled": true
   },
   "outputs": [],
   "source": [
    "X_train.head()"
   ]
  },
  {
   "cell_type": "markdown",
   "metadata": {},
   "source": [
    "# Number of Ratings per month"
   ]
  },
  {
   "cell_type": "code",
   "execution_count": 35,
   "metadata": {},
   "outputs": [
    {
     "data": {
      "image/png": "[encoded data removed]",
      "text/plain": [
       "<Figure size 720x576 with 1 Axes>"
      ]
     },
     "metadata": {},
     "output_type": "display_data"
    }
   ],
   "source": [
    "plt.figure(figsize = (10,8))\n",
    "ax = X_train.resample(\"M\", on = \"Date\")[\"Ratings\"].count().plot()\n",
    "ax.set_yticklabels([changingLabels(num) for num in ax.get_yticks()])\n",
    "plt.tick_params(labelsize = 15)\n",
    "plt.show()"
   ]
  },
  {
   "cell_type": "markdown",
   "metadata": {},
   "source": [
    "# Analysis of Ratings given by user"
   ]
  },
  {
   "cell_type": "code",
   "execution_count": 10,
   "metadata": {},
   "outputs": [],
   "source": [
    "no_of_rated_movies_per_user = X_train.groupby(by = \"CustID\")[\"Ratings\"].count().sort_values(ascending = False)"
   ]
  },
  {
   "cell_type": "code",
   "execution_count": 11,
   "metadata": {},
   "outputs": [
    {
     "data": {
      "text/plain": [
       "(479526,)"
      ]
     },
     "execution_count": 11,
     "metadata": {},
     "output_type": "execute_result"
    }
   ],
   "source": [
    "no_of_rated_movies_per_user.shape"
   ]
  },
  {
   "cell_type": "code",
   "execution_count": 23,
   "metadata": {},
   "outputs": [
    {
     "data": {
      "text/plain": [
       "CustID\n",
       "305344     12406\n",
       "387418     12165\n",
       "2439493    11563\n",
       "1664010    11058\n",
       "2118461    10347\n",
       "Name: Ratings, dtype: int64"
      ]
     },
     "execution_count": 23,
     "metadata": {},
     "output_type": "execute_result"
    }
   ],
   "source": [
    "no_of_rated_movies_per_user.head()"
   ]
  },
  {
   "cell_type": "markdown",
   "metadata": {},
   "source": [
    "# Analysis of Ratings Per Movie"
   ]
  },
  {
   "cell_type": "code",
   "execution_count": 24,
   "metadata": {},
   "outputs": [],
   "source": [
    "no_of_ratings_per_movie = X_train.groupby(by = \"MovieID\")[\"Ratings\"].count().sort_values(ascending = False)"
   ]
  },
  {
   "cell_type": "code",
   "execution_count": 25,
   "metadata": {},
   "outputs": [
    {
     "data": {
      "text/plain": [
       "MovieID\n",
       "5317     162947\n",
       "15124    151731\n",
       "14313    140448\n",
       "15205    137534\n",
       "1905     135950\n",
       "Name: Ratings, dtype: int64"
      ]
     },
     "execution_count": 25,
     "metadata": {},
     "output_type": "execute_result"
    }
   ],
   "source": [
    "no_of_ratings_per_movie.head()"
   ]
  },
  {
   "cell_type": "code",
   "execution_count": 28,
   "metadata": {},
   "outputs": [
    {
     "data": {
      "image/png": "[encoded data removed]",
      "text/plain": [
       "<Figure size 864x432 with 1 Axes>"
      ]
     },
     "metadata": {
      "needs_background": "light"
     },
     "output_type": "display_data"
    }
   ],
   "source": [
    "fig = plt.figure(figsize = (12, 6))\n",
    "axes = fig.add_axes([0.1,0.1,1,1])\n",
    "plt.title(\"Number of Ratings Per Movie\", fontsize = 20)\n",
    "plt.xlabel(\"Movie\", fontsize = 20)\n",
    "plt.ylabel(\"Count of Ratings\", fontsize = 20)\n",
    "plt.plot(no_of_ratings_per_movie.values)\n",
    "plt.tick_params(labelsize = 15)\n",
    "axes.set_xticklabels([])\n",
    "plt.show()"
   ]
  },
  {
   "cell_type": "markdown",
   "metadata": {},
   "source": [
    "### Analysis of Movie Ratings on Day of Week"
   ]
  },
  {
   "cell_type": "code",
   "execution_count": 30,
   "metadata": {},
   "outputs": [
    {
     "data": {
      "image/png": "[encoded data removed]",
      "text/plain": [
       "<Figure size 864x576 with 1 Axes>"
      ]
     },
     "metadata": {
      "needs_background": "light"
     },
     "output_type": "display_data"
    }
   ],
   "source": [
    "fig = plt.figure(figsize = (12, 8))\n",
    "\n",
    "axes = sns.boxplot(x = \"DayOfWeek\", y = \"Ratings\", data = X_train)\n",
    "axes.set_title(\"Day of week VS Number of Ratings\", fontsize = 20)\n",
    "axes.set_xlabel(\"Day of Week\", fontsize = 20)\n",
    "axes.set_ylabel(\"Number of Ratings\", fontsize = 20)\n",
    "axes.tick_params(labelsize = 15)\n",
    "\n",
    "plt.show()"
   ]
  },
  {
   "cell_type": "code",
   "execution_count": 45,
   "metadata": {},
   "outputs": [
    {
     "name": "stdout",
     "output_type": "stream",
     "text": [
      "Average Ratings on Day of Weeks\n",
      "DayOfWeek\n",
      "Friday       3.605913\n",
      "Monday       3.597540\n",
      "Saturday     3.614853\n",
      "Sunday       3.616528\n",
      "Thursday     3.604287\n",
      "Tuesday      3.595831\n",
      "Wednesday    3.604946\n",
      "Name: Ratings, dtype: float64\n"
     ]
    }
   ],
   "source": [
    "average_ratings_dayofweek = X_train.groupby(by = \"DayOfWeek\")[\"Ratings\"].mean()\n",
    "print(\"Average Ratings on Day of Weeks\")\n",
    "print(average_ratings_dayofweek)"
   ]
  },
  {
   "cell_type": "markdown",
   "metadata": {},
   "source": [
    "# Creating USER-ITEM sparse matrix from data frame"
   ]
  },
  {
   "cell_type": "code",
   "execution_count": 11,
   "metadata": {},
   "outputs": [
    {
     "name": "stdout",
     "output_type": "stream",
     "text": [
      "Creating USER_ITEM sparse matrix for train Data\n",
      "Creation done. Shape of sparse matrix = (2649297, 17766)\n",
      "Wall time: 272 ms\n"
     ]
    }
   ],
   "source": [
    "%%time\n",
    "print(\"Creating USER_ITEM sparse matrix for train Data\")\n",
    "TrainUISparseData = sparse.csr_matrix((X_train.Ratings, (X_train.CustID, X_train.MovieID)))\n",
    "print(\"Creation done. Shape of sparse matrix = \"+str(TrainUISparseData.shape))"
   ]
  },
  {
   "cell_type": "code",
   "execution_count": 12,
   "metadata": {},
   "outputs": [
    {
     "name": "stdout",
     "output_type": "stream",
     "text": [
      "Creating USER_ITEM sparse matrix for test Data\n",
      "Creation done. Shape of sparse matrix = (2649297, 17766)\n",
      "Wall time: 53.4 ms\n"
     ]
    }
   ],
   "source": [
    "%%time\n",
    "print(\"Creating USER_ITEM sparse matrix for test Data\")\n",
    "TestUISparseData = sparse.csr_matrix((X_test.Ratings, (X_test.CustID, X_test.MovieID)))\n",
    "print(\"Creation done. Shape of sparse matrix = \"+str(TestUISparseData.shape))"
   ]
  },
  {
   "cell_type": "code",
   "execution_count": 92,
   "metadata": {},
   "outputs": [
    {
     "data": {
      "text/plain": [
       "<2648798x17765 sparse matrix of type '<class 'numpy.int64'>'\n",
       "\twith 70000 stored elements in Compressed Sparse Row format>"
      ]
     },
     "execution_count": 92,
     "metadata": {},
     "output_type": "execute_result"
    }
   ],
   "source": [
    "TrainUISparseData"
   ]
  },
  {
   "cell_type": "code",
   "execution_count": 36,
   "metadata": {},
   "outputs": [
    {
     "name": "stdout",
     "output_type": "stream",
     "text": [
      "Creating Cosine Similarity Matrix...\n",
      "Creation Done..\n",
      "Wall time: 818 ms\n"
     ]
    }
   ],
   "source": [
    "%%time\n",
    "#creating cosine similarity matirx of train Data\n",
    "print(\"Creating Cosine Similarity Matrix...\")\n",
    "print(\"Creation Done..\")\n",
    "m_m_similarity = cosine_similarity(TrainUISparseData.T, dense_output = False)"
   ]
  },
  {
   "cell_type": "code",
   "execution_count": 14,
   "metadata": {},
   "outputs": [
    {
     "name": "stdout",
     "output_type": "stream",
     "text": [
      "Dimension of Matrix = (17766, 17766)\n"
     ]
    }
   ],
   "source": [
    "print(\"Dimension of Matrix = {}\".format(m_m_similarity.shape))"
   ]
  },
  {
   "cell_type": "code",
   "execution_count": 15,
   "metadata": {
    "scrolled": true
   },
   "outputs": [
    {
     "data": {
      "text/plain": [
       "<17766x17766 sparse matrix of type '<class 'numpy.float64'>'\n",
       "\twith 7909315 stored elements in Compressed Sparse Row format>"
      ]
     },
     "execution_count": 15,
     "metadata": {},
     "output_type": "execute_result"
    }
   ],
   "source": [
    "m_m_similarity"
   ]
  },
  {
   "cell_type": "code",
   "execution_count": 18,
   "metadata": {},
   "outputs": [
    {
     "name": "stdout",
     "output_type": "stream",
     "text": [
      "pairwise sparse output:\n",
      "   (7, 17560)\t0.013441012737817013\n",
      "  (7, 17063)\t0.2866297455600074\n",
      "  (7, 17004)\t0.016095222024355493\n",
      "  (7, 16997)\t0.012954703541703815\n",
      "  (7, 16793)\t0.01626058058301215\n",
      "  (7, 16788)\t0.016180620184224056\n",
      "  (7, 16721)\t0.013683766411279628\n",
      "  (7, 16668)\t0.009282011165189431\n",
      "  (7, 16532)\t0.03131481251055252\n",
      "  (7, 16128)\t0.014934186663951634\n",
      "  (7, 15894)\t0.015554850375648722\n",
      "  (7, 15755)\t0.008273615413522915\n",
      "  (7, 15525)\t0.21629522817435004\n",
      "  (7, 15440)\t0.02542966504301125\n",
      "  (7, 15422)\t0.012569283824653376\n",
      "  (7, 15154)\t0.022660071028103954\n",
      "  (7, 15057)\t0.011233788526998634\n",
      "  (7, 14889)\t0.017271408326331786\n",
      "  (7, 14869)\t0.012181217343619382\n",
      "  (7, 14670)\t0.013647400217437183\n",
      "  (7, 14667)\t0.006743330180665651\n",
      "  (7, 14584)\t0.006236259132031637\n",
      "  (7, 14507)\t0.00959392628093864\n",
      "  (7, 14482)\t0.008936203182521633\n",
      "  (7, 14480)\t0.028034131306548943\n",
      "  :\t:\n",
      "  (17765, 2252)\t0.056112877973557296\n",
      "  (17765, 2209)\t0.01592344987286945\n",
      "  (17765, 2178)\t0.014889477998144562\n",
      "  (17765, 2163)\t0.020819313180365423\n",
      "  (17765, 2001)\t0.05741798302002943\n",
      "  (17765, 1862)\t0.006046491843582582\n",
      "  (17765, 1799)\t0.01751703045303848\n",
      "  (17765, 1798)\t0.04580270330352899\n",
      "  (17765, 1794)\t0.05028761909364761\n",
      "  (17765, 1792)\t0.04645532314609378\n",
      "  (17765, 1542)\t0.030103926440499928\n",
      "  (17765, 1202)\t0.03047276334677105\n",
      "  (17765, 1157)\t0.10397504898200728\n",
      "  (17765, 1144)\t0.027950131762919973\n",
      "  (17765, 829)\t0.040763018448207095\n",
      "  (17765, 788)\t0.03048616673688244\n",
      "  (17765, 586)\t0.3287979746107146\n",
      "  (17765, 571)\t0.042798448872571275\n",
      "  (17765, 551)\t0.03174948845090006\n",
      "  (17765, 501)\t0.00870091708148625\n",
      "  (17765, 463)\t0.0813733471206735\n",
      "  (17765, 373)\t0.3287979746107146\n",
      "  (17765, 289)\t0.06623823961658694\n",
      "  (17765, 199)\t0.026271910725391097\n",
      "  (17765, 175)\t0.011543381330941597\n",
      "\n"
     ]
    }
   ],
   "source": [
    "print('pairwise sparse output:\\n {}\\n'.format(m_m_similarity))"
   ]
  },
  {
   "cell_type": "code",
   "execution_count": 16,
   "metadata": {
    "scrolled": true
   },
   "outputs": [
    {
     "name": "stdout",
     "output_type": "stream",
     "text": [
      "Wall time: 618 ms\n"
     ]
    }
   ],
   "source": [
    "%%time\n",
    "movie_ids = np.unique(m_m_similarity.nonzero())"
   ]
  },
  {
   "cell_type": "code",
   "execution_count": 17,
   "metadata": {},
   "outputs": [
    {
     "name": "stdout",
     "output_type": "stream",
     "text": [
      "Wall time: 1.81 s\n"
     ]
    }
   ],
   "source": [
    "%%time\n",
    "similar_movies_dict = dict()\n",
    "for movie in movie_ids:\n",
    "    smlr = np.argsort(-m_m_similarity[movie].toarray().ravel())[1:100]\n",
    "    similar_movies_dict[movie] = smlr"
   ]
  },
  {
   "cell_type": "markdown",
   "metadata": {},
   "source": [
    "### Let's pick random movie and check it's top 10 most similar movies."
   ]
  },
  {
   "cell_type": "code",
   "execution_count": 39,
   "metadata": {},
   "outputs": [],
   "source": [
    "movie_titles = pd.read_csv(\"movie_titles.csv\",sep = \",\", header = None, names=['MovieID', 'Year_of_Release', 'Movie_Title'],\n",
    "                           index_col = \"MovieID\", encoding = \"iso8859_2\")"
   ]
  },
  {
   "cell_type": "markdown",
   "metadata": {},
   "source": [
    "### Merge movie Titles with MovieID"
   ]
  },
  {
   "cell_type": "code",
   "execution_count": 40,
   "metadata": {},
   "outputs": [],
   "source": [
    "movie_data=pd.merge(movie_titles,Final_Data,on='MovieID')"
   ]
  },
  {
   "cell_type": "code",
   "execution_count": 28,
   "metadata": {},
   "outputs": [
    {
     "data": {
      "text/html": [
       "<div>\n",
       "<style scoped>\n",
       "    .dataframe tbody tr th:only-of-type {\n",
       "        vertical-align: middle;\n",
       "    }\n",
       "\n",
       "    .dataframe tbody tr th {\n",
       "        vertical-align: top;\n",
       "    }\n",
       "\n",
       "    .dataframe thead th {\n",
       "        text-align: right;\n",
       "    }\n",
       "</style>\n",
       "<table border=\"1\" class=\"dataframe\">\n",
       "  <thead>\n",
       "    <tr style=\"text-align: right;\">\n",
       "      <th></th>\n",
       "      <th>MovieID</th>\n",
       "      <th>Year_of_Release</th>\n",
       "      <th>Movie_Title</th>\n",
       "      <th>CustID</th>\n",
       "      <th>Ratings</th>\n",
       "      <th>Date</th>\n",
       "    </tr>\n",
       "  </thead>\n",
       "  <tbody>\n",
       "    <tr>\n",
       "      <th>0</th>\n",
       "      <td>12</td>\n",
       "      <td>1947.0</td>\n",
       "      <td>My Favorite Brunette</td>\n",
       "      <td>529889</td>\n",
       "      <td>3</td>\n",
       "      <td>2000-01-14</td>\n",
       "    </tr>\n",
       "    <tr>\n",
       "      <th>1</th>\n",
       "      <td>12</td>\n",
       "      <td>1947.0</td>\n",
       "      <td>My Favorite Brunette</td>\n",
       "      <td>2594013</td>\n",
       "      <td>3</td>\n",
       "      <td>2000-01-16</td>\n",
       "    </tr>\n",
       "    <tr>\n",
       "      <th>2</th>\n",
       "      <td>15</td>\n",
       "      <td>1988.0</td>\n",
       "      <td>Neil Diamond: Greatest Hits Live</td>\n",
       "      <td>107840</td>\n",
       "      <td>3</td>\n",
       "      <td>2000-01-13</td>\n",
       "    </tr>\n",
       "    <tr>\n",
       "      <th>3</th>\n",
       "      <td>16</td>\n",
       "      <td>1996.0</td>\n",
       "      <td>Screamers</td>\n",
       "      <td>1066384</td>\n",
       "      <td>2</td>\n",
       "      <td>2000-01-07</td>\n",
       "    </tr>\n",
       "    <tr>\n",
       "      <th>4</th>\n",
       "      <td>16</td>\n",
       "      <td>1996.0</td>\n",
       "      <td>Screamers</td>\n",
       "      <td>1356928</td>\n",
       "      <td>3</td>\n",
       "      <td>2000-01-07</td>\n",
       "    </tr>\n",
       "  </tbody>\n",
       "</table>\n",
       "</div>"
      ],
      "text/plain": [
       "   MovieID  Year_of_Release                       Movie_Title   CustID  \\\n",
       "0       12           1947.0              My Favorite Brunette   529889   \n",
       "1       12           1947.0              My Favorite Brunette  2594013   \n",
       "2       15           1988.0  Neil Diamond: Greatest Hits Live   107840   \n",
       "3       16           1996.0                         Screamers  1066384   \n",
       "4       16           1996.0                         Screamers  1356928   \n",
       "\n",
       "   Ratings       Date  \n",
       "0        3 2000-01-14  \n",
       "1        3 2000-01-16  \n",
       "2        3 2000-01-13  \n",
       "3        2 2000-01-07  \n",
       "4        3 2000-01-07  "
      ]
     },
     "execution_count": 28,
     "metadata": {},
     "output_type": "execute_result"
    }
   ],
   "source": [
    "movie_data.head()"
   ]
  },
  {
   "cell_type": "code",
   "execution_count": 21,
   "metadata": {
    "scrolled": false
   },
   "outputs": [
    {
     "data": {
      "text/html": [
       "<div>\n",
       "<style scoped>\n",
       "    .dataframe tbody tr th:only-of-type {\n",
       "        vertical-align: middle;\n",
       "    }\n",
       "\n",
       "    .dataframe tbody tr th {\n",
       "        vertical-align: top;\n",
       "    }\n",
       "\n",
       "    .dataframe thead th {\n",
       "        text-align: right;\n",
       "    }\n",
       "</style>\n",
       "<table border=\"1\" class=\"dataframe\">\n",
       "  <thead>\n",
       "    <tr style=\"text-align: right;\">\n",
       "      <th></th>\n",
       "      <th>Year_of_Release</th>\n",
       "      <th>Movie_Title</th>\n",
       "    </tr>\n",
       "    <tr>\n",
       "      <th>MovieID</th>\n",
       "      <th></th>\n",
       "      <th></th>\n",
       "    </tr>\n",
       "  </thead>\n",
       "  <tbody>\n",
       "    <tr>\n",
       "      <th>1</th>\n",
       "      <td>2003.0</td>\n",
       "      <td>Dinosaur Planet</td>\n",
       "    </tr>\n",
       "    <tr>\n",
       "      <th>2</th>\n",
       "      <td>2004.0</td>\n",
       "      <td>Isle of Man TT 2004 Review</td>\n",
       "    </tr>\n",
       "    <tr>\n",
       "      <th>3</th>\n",
       "      <td>1997.0</td>\n",
       "      <td>Character</td>\n",
       "    </tr>\n",
       "    <tr>\n",
       "      <th>4</th>\n",
       "      <td>1994.0</td>\n",
       "      <td>Paula Abdul's Get Up &amp; Dance</td>\n",
       "    </tr>\n",
       "    <tr>\n",
       "      <th>5</th>\n",
       "      <td>2004.0</td>\n",
       "      <td>The Rise and Fall of ECW</td>\n",
       "    </tr>\n",
       "  </tbody>\n",
       "</table>\n",
       "</div>"
      ],
      "text/plain": [
       "         Year_of_Release                   Movie_Title\n",
       "MovieID                                               \n",
       "1                 2003.0               Dinosaur Planet\n",
       "2                 2004.0    Isle of Man TT 2004 Review\n",
       "3                 1997.0                     Character\n",
       "4                 1994.0  Paula Abdul's Get Up & Dance\n",
       "5                 2004.0      The Rise and Fall of ECW"
      ]
     },
     "execution_count": 21,
     "metadata": {},
     "output_type": "execute_result"
    }
   ],
   "source": [
    "movie_titles.head()"
   ]
  },
  {
   "cell_type": "markdown",
   "metadata": {},
   "source": [
    "#### Similar Movies to: Godzilla's Revenge"
   ]
  },
  {
   "cell_type": "code",
   "execution_count": 21,
   "metadata": {
    "collapsed": true
   },
   "outputs": [
    {
     "name": "stdout",
     "output_type": "stream",
     "text": [
      "Name of the movie -------> Godzilla's Revenge\n"
     ]
    },
    {
     "ename": "IndexError",
     "evalue": "index out of bounds: 0 <= 17765 <= 17765, 0 <= 17766 <= 17765, 17765 <= 17766",
     "output_type": "error",
     "traceback": [
      "\u001b[1;31m---------------------------------------------------------------------------\u001b[0m",
      "\u001b[1;31mIndexError\u001b[0m                                Traceback (most recent call last)",
      "\u001b[1;32m<ipython-input-21-f5687fc8035b>\u001b[0m in \u001b[0;36m<module>\u001b[1;34m\u001b[0m\n\u001b[0;32m      3\u001b[0m \u001b[0mprint\u001b[0m\u001b[1;33m(\u001b[0m\u001b[1;34m\"Name of the movie -------> \"\u001b[0m\u001b[1;33m+\u001b[0m\u001b[0mstr\u001b[0m\u001b[1;33m(\u001b[0m\u001b[0mmovie_titles\u001b[0m\u001b[1;33m.\u001b[0m\u001b[0mloc\u001b[0m\u001b[1;33m[\u001b[0m\u001b[0mmovieID_GR\u001b[0m\u001b[1;33m]\u001b[0m\u001b[1;33m[\u001b[0m\u001b[1;36m1\u001b[0m\u001b[1;33m]\u001b[0m\u001b[1;33m)\u001b[0m\u001b[1;33m)\u001b[0m\u001b[1;33m\u001b[0m\u001b[1;33m\u001b[0m\u001b[0m\n\u001b[0;32m      4\u001b[0m \u001b[1;33m\u001b[0m\u001b[0m\n\u001b[1;32m----> 5\u001b[1;33m \u001b[0mprint\u001b[0m\u001b[1;33m(\u001b[0m\u001b[1;34m\"Number of ratings by users for movie {} is {}\"\u001b[0m\u001b[1;33m.\u001b[0m\u001b[0mformat\u001b[0m\u001b[1;33m(\u001b[0m\u001b[0mmovie_titles\u001b[0m\u001b[1;33m.\u001b[0m\u001b[0mloc\u001b[0m\u001b[1;33m[\u001b[0m\u001b[0mmovieID_GR\u001b[0m\u001b[1;33m]\u001b[0m\u001b[1;33m[\u001b[0m\u001b[1;36m1\u001b[0m\u001b[1;33m]\u001b[0m\u001b[1;33m,\u001b[0m \u001b[0mTrainUISparseData\u001b[0m\u001b[1;33m[\u001b[0m\u001b[1;33m:\u001b[0m\u001b[1;33m,\u001b[0m\u001b[0mmovieID_GR\u001b[0m\u001b[1;33m]\u001b[0m\u001b[1;33m.\u001b[0m\u001b[0mgetnnz\u001b[0m\u001b[1;33m(\u001b[0m\u001b[1;33m)\u001b[0m\u001b[1;33m)\u001b[0m\u001b[1;33m)\u001b[0m\u001b[1;33m\u001b[0m\u001b[1;33m\u001b[0m\u001b[0m\n\u001b[0m\u001b[0;32m      6\u001b[0m \u001b[1;33m\u001b[0m\u001b[0m\n\u001b[0;32m      7\u001b[0m \u001b[0mprint\u001b[0m\u001b[1;33m(\u001b[0m\u001b[1;34m\"Number of similar movies to {} is {}\"\u001b[0m\u001b[1;33m.\u001b[0m\u001b[0mformat\u001b[0m\u001b[1;33m(\u001b[0m\u001b[0mmovie_titles\u001b[0m\u001b[1;33m.\u001b[0m\u001b[0mloc\u001b[0m\u001b[1;33m[\u001b[0m\u001b[0mmovieID_GR\u001b[0m\u001b[1;33m]\u001b[0m\u001b[1;33m[\u001b[0m\u001b[1;36m1\u001b[0m\u001b[1;33m]\u001b[0m\u001b[1;33m,\u001b[0m \u001b[0mm_m_similarity\u001b[0m\u001b[1;33m[\u001b[0m\u001b[0mmovieID_GR\u001b[0m\u001b[1;33m]\u001b[0m\u001b[1;33m.\u001b[0m\u001b[0mcount_nonzero\u001b[0m\u001b[1;33m(\u001b[0m\u001b[1;33m)\u001b[0m\u001b[1;33m)\u001b[0m\u001b[1;33m)\u001b[0m\u001b[1;33m\u001b[0m\u001b[1;33m\u001b[0m\u001b[0m\n",
      "\u001b[1;32m~\\Anaconda3\\lib\\site-packages\\scipy\\sparse\\csr.py\u001b[0m in \u001b[0;36m__getitem__\u001b[1;34m(self, key)\u001b[0m\n\u001b[0;32m    302\u001b[0m                      row.step in (1, None))):\n\u001b[0;32m    303\u001b[0m                 \u001b[1;31m# col is int or slice with step 1, row is slice with step 1.\u001b[0m\u001b[1;33m\u001b[0m\u001b[1;33m\u001b[0m\u001b[1;33m\u001b[0m\u001b[0m\n\u001b[1;32m--> 304\u001b[1;33m                 \u001b[1;32mreturn\u001b[0m \u001b[0mself\u001b[0m\u001b[1;33m.\u001b[0m\u001b[0m_get_submatrix\u001b[0m\u001b[1;33m(\u001b[0m\u001b[0mrow\u001b[0m\u001b[1;33m,\u001b[0m \u001b[0mcol\u001b[0m\u001b[1;33m)\u001b[0m\u001b[1;33m\u001b[0m\u001b[1;33m\u001b[0m\u001b[0m\n\u001b[0m\u001b[0;32m    305\u001b[0m             \u001b[1;32melif\u001b[0m \u001b[0missequence\u001b[0m\u001b[1;33m(\u001b[0m\u001b[0mcol\u001b[0m\u001b[1;33m)\u001b[0m\u001b[1;33m:\u001b[0m\u001b[1;33m\u001b[0m\u001b[1;33m\u001b[0m\u001b[0m\n\u001b[0;32m    306\u001b[0m                 \u001b[1;31m# row is slice, col is sequence.\u001b[0m\u001b[1;33m\u001b[0m\u001b[1;33m\u001b[0m\u001b[1;33m\u001b[0m\u001b[0m\n",
      "\u001b[1;32m~\\Anaconda3\\lib\\site-packages\\scipy\\sparse\\csr.py\u001b[0m in \u001b[0;36m_get_submatrix\u001b[1;34m(self, row_slice, col_slice)\u001b[0m\n\u001b[0;32m    454\u001b[0m         \u001b[0mM\u001b[0m\u001b[1;33m,\u001b[0m\u001b[0mN\u001b[0m \u001b[1;33m=\u001b[0m \u001b[0mself\u001b[0m\u001b[1;33m.\u001b[0m\u001b[0mshape\u001b[0m\u001b[1;33m\u001b[0m\u001b[1;33m\u001b[0m\u001b[0m\n\u001b[0;32m    455\u001b[0m         \u001b[0mi0\u001b[0m\u001b[1;33m,\u001b[0m \u001b[0mi1\u001b[0m \u001b[1;33m=\u001b[0m \u001b[0mprocess_slice\u001b[0m\u001b[1;33m(\u001b[0m\u001b[0mrow_slice\u001b[0m\u001b[1;33m,\u001b[0m \u001b[0mM\u001b[0m\u001b[1;33m)\u001b[0m\u001b[1;33m\u001b[0m\u001b[1;33m\u001b[0m\u001b[0m\n\u001b[1;32m--> 456\u001b[1;33m         \u001b[0mj0\u001b[0m\u001b[1;33m,\u001b[0m \u001b[0mj1\u001b[0m \u001b[1;33m=\u001b[0m \u001b[0mprocess_slice\u001b[0m\u001b[1;33m(\u001b[0m\u001b[0mcol_slice\u001b[0m\u001b[1;33m,\u001b[0m \u001b[0mN\u001b[0m\u001b[1;33m)\u001b[0m\u001b[1;33m\u001b[0m\u001b[1;33m\u001b[0m\u001b[0m\n\u001b[0m\u001b[0;32m    457\u001b[0m \u001b[1;33m\u001b[0m\u001b[0m\n\u001b[0;32m    458\u001b[0m         indptr, indices, data = get_csr_submatrix(\n",
      "\u001b[1;32m~\\Anaconda3\\lib\\site-packages\\scipy\\sparse\\csr.py\u001b[0m in \u001b[0;36mprocess_slice\u001b[1;34m(sl, num)\u001b[0m\n\u001b[0;32m    449\u001b[0m                 raise IndexError(\n\u001b[0;32m    450\u001b[0m                       \u001b[1;34m\"index out of bounds: 0 <= %d <= %d, 0 <= %d <= %d,\"\u001b[0m\u001b[1;33m\u001b[0m\u001b[1;33m\u001b[0m\u001b[0m\n\u001b[1;32m--> 451\u001b[1;33m                       \" %d <= %d\" % (i0, num, i1, num, i0, i1))\n\u001b[0m\u001b[0;32m    452\u001b[0m             \u001b[1;32mreturn\u001b[0m \u001b[0mi0\u001b[0m\u001b[1;33m,\u001b[0m \u001b[0mi1\u001b[0m\u001b[1;33m\u001b[0m\u001b[1;33m\u001b[0m\u001b[0m\n\u001b[0;32m    453\u001b[0m \u001b[1;33m\u001b[0m\u001b[0m\n",
      "\u001b[1;31mIndexError\u001b[0m: index out of bounds: 0 <= 17765 <= 17765, 0 <= 17766 <= 17765, 17765 <= 17766"
     ]
    }
   ],
   "source": [
    "movieID_GR = 17765\n",
    "\n",
    "print(\"Name of the movie -------> \"+str(movie_titles.loc[movieID_GR][1]))\n",
    "\n",
    "print(\"Number of ratings by users for movie {} is {}\".format(movie_titles.loc[movieID_GR][1], TrainUISparseData[:,movieID_GR].getnnz()))\n",
    "\n",
    "print(\"Number of similar movies to {} is {}\".format(movie_titles.loc[movieID_GR][1], m_m_similarity[movieID_GR].count_nonzero()))"
   ]
  },
  {
   "cell_type": "code",
   "execution_count": 16,
   "metadata": {},
   "outputs": [
    {
     "data": {
      "text/html": [
       "<div>\n",
       "<style scoped>\n",
       "    .dataframe tbody tr th:only-of-type {\n",
       "        vertical-align: middle;\n",
       "    }\n",
       "\n",
       "    .dataframe tbody tr th {\n",
       "        vertical-align: top;\n",
       "    }\n",
       "\n",
       "    .dataframe thead th {\n",
       "        text-align: right;\n",
       "    }\n",
       "</style>\n",
       "<table border=\"1\" class=\"dataframe\">\n",
       "  <thead>\n",
       "    <tr style=\"text-align: right;\">\n",
       "      <th></th>\n",
       "      <th>Year_of_Release</th>\n",
       "      <th>Movie_Title</th>\n",
       "    </tr>\n",
       "    <tr>\n",
       "      <th>MovieID</th>\n",
       "      <th></th>\n",
       "      <th></th>\n",
       "    </tr>\n",
       "  </thead>\n",
       "  <tbody>\n",
       "    <tr>\n",
       "      <th>12252</th>\n",
       "      <td>1975.0</td>\n",
       "      <td>Terror of Mechagodzilla</td>\n",
       "    </tr>\n",
       "    <tr>\n",
       "      <th>15810</th>\n",
       "      <td>1964.0</td>\n",
       "      <td>Godzilla vs. Mothra</td>\n",
       "    </tr>\n",
       "    <tr>\n",
       "      <th>5907</th>\n",
       "      <td>1956.0</td>\n",
       "      <td>Godzilla: King of the Monsters</td>\n",
       "    </tr>\n",
       "    <tr>\n",
       "      <th>2459</th>\n",
       "      <td>1967.0</td>\n",
       "      <td>Son of Godzilla</td>\n",
       "    </tr>\n",
       "    <tr>\n",
       "      <th>409</th>\n",
       "      <td>1966.0</td>\n",
       "      <td>Godzilla vs. The Sea Monster</td>\n",
       "    </tr>\n",
       "    <tr>\n",
       "      <th>8656</th>\n",
       "      <td>1993.0</td>\n",
       "      <td>Godzilla vs. Mechagodzilla II</td>\n",
       "    </tr>\n",
       "    <tr>\n",
       "      <th>10064</th>\n",
       "      <td>2004.0</td>\n",
       "      <td>Godzilla: The Series: Monster Wars Trilogy</td>\n",
       "    </tr>\n",
       "    <tr>\n",
       "      <th>15123</th>\n",
       "      <td>1995.0</td>\n",
       "      <td>Godzilla vs. Destroyah / Godzilla vs. Space Go...</td>\n",
       "    </tr>\n",
       "    <tr>\n",
       "      <th>10181</th>\n",
       "      <td>1999.0</td>\n",
       "      <td>Godzilla And Other Movie Monsters</td>\n",
       "    </tr>\n",
       "    <tr>\n",
       "      <th>10642</th>\n",
       "      <td>1999.0</td>\n",
       "      <td>Godzilla 2000: Millennium</td>\n",
       "    </tr>\n",
       "  </tbody>\n",
       "</table>\n",
       "</div>"
      ],
      "text/plain": [
       "         Year_of_Release                                        Movie_Title\n",
       "MovieID                                                                    \n",
       "12252             1975.0                            Terror of Mechagodzilla\n",
       "15810             1964.0                                Godzilla vs. Mothra\n",
       "5907              1956.0                     Godzilla: King of the Monsters\n",
       "2459              1967.0                                    Son of Godzilla\n",
       "409               1966.0                       Godzilla vs. The Sea Monster\n",
       "8656              1993.0                      Godzilla vs. Mechagodzilla II\n",
       "10064             2004.0         Godzilla: The Series: Monster Wars Trilogy\n",
       "15123             1995.0  Godzilla vs. Destroyah / Godzilla vs. Space Go...\n",
       "10181             1999.0                  Godzilla And Other Movie Monsters\n",
       "10642             1999.0                          Godzilla 2000: Millennium"
      ]
     },
     "execution_count": 16,
     "metadata": {},
     "output_type": "execute_result"
    }
   ],
   "source": [
    "movie_titles.loc[similar_movies_dict[movieID_GR][:10]]"
   ]
  },
  {
   "cell_type": "code",
   "execution_count": 17,
   "metadata": {},
   "outputs": [],
   "source": [
    "all_similar = sorted(m_m_similarity[movieID_GR].toarray().ravel(), reverse = True)[1:]\n",
    "\n",
    "similar_100 = all_similar[:101]"
   ]
  },
  {
   "cell_type": "code",
   "execution_count": 25,
   "metadata": {},
   "outputs": [
    {
     "data": {
      "image/png": "[encoded data removed]",
      "text/plain": [
       "<Figure size 720x576 with 1 Axes>"
      ]
     },
     "metadata": {
      "needs_background": "light"
     },
     "output_type": "display_data"
    }
   ],
   "source": [
    "plt.figure(figsize = (10, 8))\n",
    "plt.plot(all_similar, label = \"All Similar\")\n",
    "plt.plot(similar_100, label = \"Top 100 Similar Movies\")\n",
    "plt.title(\"Similar Movies to Godzilla's Revenge\", fontsize = 25)\n",
    "plt.ylabel(\"Cosine Similarity Values\", fontsize = 20)\n",
    "plt.tick_params(labelsize = 15)\n",
    "plt.legend(fontsize = 20)\n",
    "plt.show()"
   ]
  },
  {
   "cell_type": "markdown",
   "metadata": {},
   "source": [
    "#### Similar Movies to: Aap mujhe aache lagne lage"
   ]
  },
  {
   "cell_type": "code",
   "execution_count": 39,
   "metadata": {},
   "outputs": [
    {
     "name": "stdout",
     "output_type": "stream",
     "text": [
      "Name of the movie -------> Aap Mujhe Achche Lagne Lage\n",
      "Number of ratings by users for movie Aap Mujhe Achche Lagne Lage is 97\n",
      "Number of similar movies to Aap Mujhe Achche Lagne Lage is 17539\n"
     ]
    }
   ],
   "source": [
    "movieID_GR = 948\n",
    "\n",
    "print(\"Name of the movie -------> \"+str(movie_titles.loc[movieID_GR][1]))\n",
    "\n",
    "print(\"Number of ratings by users for movie {} is {}\".format(movie_titles.loc[movieID_GR][1], TrainUISparseData[:,movieID_GR].getnnz()))\n",
    "\n",
    "print(\"Number of similar movies to {} is {}\".format(movie_titles.loc[movieID_GR][1], m_m_similarity[movieID_GR].count_nonzero()))"
   ]
  },
  {
   "cell_type": "code",
   "execution_count": 27,
   "metadata": {},
   "outputs": [
    {
     "data": {
      "text/html": [
       "<div>\n",
       "<style scoped>\n",
       "    .dataframe tbody tr th:only-of-type {\n",
       "        vertical-align: middle;\n",
       "    }\n",
       "\n",
       "    .dataframe tbody tr th {\n",
       "        vertical-align: top;\n",
       "    }\n",
       "\n",
       "    .dataframe thead th {\n",
       "        text-align: right;\n",
       "    }\n",
       "</style>\n",
       "<table border=\"1\" class=\"dataframe\">\n",
       "  <thead>\n",
       "    <tr style=\"text-align: right;\">\n",
       "      <th></th>\n",
       "      <th>Year_of_Release</th>\n",
       "      <th>Movie_Title</th>\n",
       "    </tr>\n",
       "    <tr>\n",
       "      <th>MovieID</th>\n",
       "      <th></th>\n",
       "      <th></th>\n",
       "    </tr>\n",
       "  </thead>\n",
       "  <tbody>\n",
       "    <tr>\n",
       "      <th>2364</th>\n",
       "      <td>2002.0</td>\n",
       "      <td>Na Tum Jaano Na Hum</td>\n",
       "    </tr>\n",
       "    <tr>\n",
       "      <th>8234</th>\n",
       "      <td>2003.0</td>\n",
       "      <td>Main Prem Ki Diwani Hoon</td>\n",
       "    </tr>\n",
       "    <tr>\n",
       "      <th>13011</th>\n",
       "      <td>2000.0</td>\n",
       "      <td>Kaho Naa Pyaar Hai</td>\n",
       "    </tr>\n",
       "    <tr>\n",
       "      <th>5098</th>\n",
       "      <td>2001.0</td>\n",
       "      <td>Pyaar Ishq aur Mohabbat</td>\n",
       "    </tr>\n",
       "    <tr>\n",
       "      <th>16692</th>\n",
       "      <td>2001.0</td>\n",
       "      <td>Chori Chori Chupke Chupke</td>\n",
       "    </tr>\n",
       "    <tr>\n",
       "      <th>4967</th>\n",
       "      <td>1999.0</td>\n",
       "      <td>Jaanam Samjha Karo</td>\n",
       "    </tr>\n",
       "    <tr>\n",
       "      <th>13733</th>\n",
       "      <td>2000.0</td>\n",
       "      <td>Fiza</td>\n",
       "    </tr>\n",
       "    <tr>\n",
       "      <th>17651</th>\n",
       "      <td>2001.0</td>\n",
       "      <td>Tum Bin</td>\n",
       "    </tr>\n",
       "    <tr>\n",
       "      <th>13700</th>\n",
       "      <td>2002.0</td>\n",
       "      <td>Hum Tumhare Hain Sanam</td>\n",
       "    </tr>\n",
       "    <tr>\n",
       "      <th>5439</th>\n",
       "      <td>2001.0</td>\n",
       "      <td>Yaadein</td>\n",
       "    </tr>\n",
       "  </tbody>\n",
       "</table>\n",
       "</div>"
      ],
      "text/plain": [
       "         Year_of_Release                Movie_Title\n",
       "MovieID                                            \n",
       "2364              2002.0        Na Tum Jaano Na Hum\n",
       "8234              2003.0   Main Prem Ki Diwani Hoon\n",
       "13011             2000.0         Kaho Naa Pyaar Hai\n",
       "5098              2001.0    Pyaar Ishq aur Mohabbat\n",
       "16692             2001.0  Chori Chori Chupke Chupke\n",
       "4967              1999.0         Jaanam Samjha Karo\n",
       "13733             2000.0                       Fiza\n",
       "17651             2001.0                    Tum Bin\n",
       "13700             2002.0     Hum Tumhare Hain Sanam\n",
       "5439              2001.0                    Yaadein"
      ]
     },
     "execution_count": 27,
     "metadata": {},
     "output_type": "execute_result"
    }
   ],
   "source": [
    "movie_titles.loc[similar_movies_dict[movieID_GR][:10]]"
   ]
  },
  {
   "cell_type": "markdown",
   "metadata": {},
   "source": [
    "#### Similar Movies to: Dil hai tmhara"
   ]
  },
  {
   "cell_type": "code",
   "execution_count": 35,
   "metadata": {
    "scrolled": false
   },
   "outputs": [
    {
     "name": "stdout",
     "output_type": "stream",
     "text": [
      "Name of the movie -------> Dil Hai Tumhaara\n",
      "Number of ratings by users for movie Dil Hai Tumhaara is 125\n",
      "Number of similar movies to Dil Hai Tumhaara is 17626\n"
     ]
    },
    {
     "data": {
      "text/html": [
       "<div>\n",
       "<style scoped>\n",
       "    .dataframe tbody tr th:only-of-type {\n",
       "        vertical-align: middle;\n",
       "    }\n",
       "\n",
       "    .dataframe tbody tr th {\n",
       "        vertical-align: top;\n",
       "    }\n",
       "\n",
       "    .dataframe thead th {\n",
       "        text-align: right;\n",
       "    }\n",
       "</style>\n",
       "<table border=\"1\" class=\"dataframe\">\n",
       "  <thead>\n",
       "    <tr style=\"text-align: right;\">\n",
       "      <th></th>\n",
       "      <th>Year_of_Release</th>\n",
       "      <th>Movie_Title</th>\n",
       "    </tr>\n",
       "    <tr>\n",
       "      <th>MovieID</th>\n",
       "      <th></th>\n",
       "      <th></th>\n",
       "    </tr>\n",
       "  </thead>\n",
       "  <tbody>\n",
       "    <tr>\n",
       "      <th>2364</th>\n",
       "      <td>2002.0</td>\n",
       "      <td>Na Tum Jaano Na Hum</td>\n",
       "    </tr>\n",
       "    <tr>\n",
       "      <th>5484</th>\n",
       "      <td>2000.0</td>\n",
       "      <td>Har dil jo Pyar karega...</td>\n",
       "    </tr>\n",
       "    <tr>\n",
       "      <th>5439</th>\n",
       "      <td>2001.0</td>\n",
       "      <td>Yaadein</td>\n",
       "    </tr>\n",
       "    <tr>\n",
       "      <th>5719</th>\n",
       "      <td>2000.0</td>\n",
       "      <td>Dhadkan</td>\n",
       "    </tr>\n",
       "    <tr>\n",
       "      <th>14676</th>\n",
       "      <td>2003.0</td>\n",
       "      <td>Tere Naam: The Movie</td>\n",
       "    </tr>\n",
       "    <tr>\n",
       "      <th>16692</th>\n",
       "      <td>2001.0</td>\n",
       "      <td>Chori Chori Chupke Chupke</td>\n",
       "    </tr>\n",
       "    <tr>\n",
       "      <th>12410</th>\n",
       "      <td>2000.0</td>\n",
       "      <td>Kya Kehna</td>\n",
       "    </tr>\n",
       "    <tr>\n",
       "      <th>17651</th>\n",
       "      <td>2001.0</td>\n",
       "      <td>Tum Bin</td>\n",
       "    </tr>\n",
       "    <tr>\n",
       "      <th>16132</th>\n",
       "      <td>1995.0</td>\n",
       "      <td>Karan Arjun</td>\n",
       "    </tr>\n",
       "    <tr>\n",
       "      <th>1672</th>\n",
       "      <td>2002.0</td>\n",
       "      <td>Mujhse Dosti Karoge</td>\n",
       "    </tr>\n",
       "  </tbody>\n",
       "</table>\n",
       "</div>"
      ],
      "text/plain": [
       "         Year_of_Release                Movie_Title\n",
       "MovieID                                            \n",
       "2364              2002.0        Na Tum Jaano Na Hum\n",
       "5484              2000.0  Har dil jo Pyar karega...\n",
       "5439              2001.0                    Yaadein\n",
       "5719              2000.0                    Dhadkan\n",
       "14676             2003.0       Tere Naam: The Movie\n",
       "16692             2001.0  Chori Chori Chupke Chupke\n",
       "12410             2000.0                  Kya Kehna\n",
       "17651             2001.0                    Tum Bin\n",
       "16132             1995.0                Karan Arjun\n",
       "1672              2002.0        Mujhse Dosti Karoge"
      ]
     },
     "execution_count": 35,
     "metadata": {},
     "output_type": "execute_result"
    }
   ],
   "source": [
    "movieID_GR = 16893\n",
    "\n",
    "print(\"Name of the movie -------> \"+str(movie_titles.loc[movieID_GR][1]))\n",
    "\n",
    "print(\"Number of ratings by users for movie {} is {}\".format(movie_titles.loc[movieID_GR][1], TrainUISparseData[:,movieID_GR].getnnz()))\n",
    "\n",
    "print(\"Number of similar movies to {} is {}\".format(movie_titles.loc[movieID_GR][1], m_m_similarity[movieID_GR].count_nonzero()))\n",
    "\n",
    "movie_titles.loc[similar_movies_dict[movieID_GR][:10]]"
   ]
  },
  {
   "cell_type": "markdown",
   "metadata": {},
   "source": [
    "## Define a function for recommendation System"
   ]
  },
  {
   "cell_type": "code",
   "execution_count": 43,
   "metadata": {},
   "outputs": [],
   "source": [
    "k=3\n",
    "def Movie_recommendation():\n",
    "    for Movie_recommendation in range(k):\n",
    "        movieID_GR=0\n",
    "        try:\n",
    "            movieID_GR= int(input(\"Enter the Movie ID :\"))\n",
    "            if(movieID_GR<17770):                \n",
    "                break\n",
    "            else:\n",
    "                print(\"Invalid entry\")\n",
    "        except ValueError:\n",
    "            print(\"Invalid Input\")\n",
    "    if(movieID_GR==0):\n",
    "        return\n",
    "    cprint (\"\\nName of the movie -------> \"+str(movie_titles.loc[movieID_GR][1]),'blue',attrs=['underline','dark','bold'])\n",
    "    cprint(\"\\nNumber of ratings by users for movie {} is {}\".format(movie_titles.loc[movieID_GR][1], TrainUISparseData[:,movieID_GR].getnnz()),'red', attrs=['underline','bold'])\n",
    "    cprint(\"\\nNumber of similar movies to {} is {}\".format(movie_titles.loc[movieID_GR][1], m_m_similarity[movieID_GR].count_nonzero()),'grey',attrs=['underline','bold'])\n",
    "    cprint(\"\\nTop 10 Similar Movies \\n\\n\"+str(pd.DataFrame(movie_titles.loc[similar_movies_dict[movieID_GR][:10]])),attrs=['bold'])"
   ]
  },
  {
   "cell_type": "code",
   "execution_count": 45,
   "metadata": {
    "slideshow": {
     "slide_type": "slide"
    }
   },
   "outputs": [
    {
     "name": "stdout",
     "output_type": "stream",
     "text": [
      "Enter the Movie ID :324\n",
      "\u001b[1m\u001b[2m\u001b[4m\u001b[34m\n",
      "Name of the movie -------> Mother's Boys\u001b[0m\n",
      "\u001b[1m\u001b[4m\u001b[31m\n",
      "Number of ratings by users for movie Mother's Boys is 5\u001b[0m\n",
      "\u001b[1m\u001b[4m\u001b[30m\n",
      "Number of similar movies to Mother's Boys is 955\u001b[0m\n",
      "\u001b[1m\n",
      "Top 10 Similar Movies \n",
      "\n",
      "         Year_of_Release                            Movie_Title\n",
      "MovieID                                                        \n",
      "2708              1999.0            Candyman 3: Day of the Dead\n",
      "3931              1990.0                      A Cry in the Wild\n",
      "3164              1937.0                          Stella Dallas\n",
      "16456             1998.0                                Kolobos\n",
      "3976              2000.0  The Miracle Maker: The Story of Jesus\n",
      "13625             1975.0                            Cooley High\n",
      "15146             1963.0             Beach Party / Bikini Beach\n",
      "5106              1994.0                          House Party 3\n",
      "15286             1996.0                             Diabolique\n",
      "751               1998.0                         Halloween: H2O\u001b[0m\n"
     ]
    }
   ],
   "source": [
    "Movie_recommendation()"
   ]
  },
  {
   "cell_type": "code",
   "execution_count": 46,
   "metadata": {},
   "outputs": [],
   "source": [
    "movie_new = pd.read_csv(\"movie_titles.csv\",sep = \",\", header = None, names=['MovieID', 'Year_of_Release', 'Movie_Title'],\n",
    "                         encoding = \"iso8859_2\")"
   ]
  },
  {
   "cell_type": "code",
   "execution_count": 47,
   "metadata": {},
   "outputs": [
    {
     "data": {
      "text/html": [
       "<div>\n",
       "<style scoped>\n",
       "    .dataframe tbody tr th:only-of-type {\n",
       "        vertical-align: middle;\n",
       "    }\n",
       "\n",
       "    .dataframe tbody tr th {\n",
       "        vertical-align: top;\n",
       "    }\n",
       "\n",
       "    .dataframe thead th {\n",
       "        text-align: right;\n",
       "    }\n",
       "</style>\n",
       "<table border=\"1\" class=\"dataframe\">\n",
       "  <thead>\n",
       "    <tr style=\"text-align: right;\">\n",
       "      <th></th>\n",
       "      <th>MovieID</th>\n",
       "      <th>Year_of_Release</th>\n",
       "      <th>Movie_Title</th>\n",
       "    </tr>\n",
       "  </thead>\n",
       "  <tbody>\n",
       "    <tr>\n",
       "      <th>17765</th>\n",
       "      <td>17766</td>\n",
       "      <td>2002.0</td>\n",
       "      <td>Where the Wild Things Are and Other Maurice Se...</td>\n",
       "    </tr>\n",
       "    <tr>\n",
       "      <th>17766</th>\n",
       "      <td>17767</td>\n",
       "      <td>2004.0</td>\n",
       "      <td>Fidel Castro: American Experience</td>\n",
       "    </tr>\n",
       "    <tr>\n",
       "      <th>17767</th>\n",
       "      <td>17768</td>\n",
       "      <td>2000.0</td>\n",
       "      <td>Epoch</td>\n",
       "    </tr>\n",
       "    <tr>\n",
       "      <th>17768</th>\n",
       "      <td>17769</td>\n",
       "      <td>2003.0</td>\n",
       "      <td>The Company</td>\n",
       "    </tr>\n",
       "    <tr>\n",
       "      <th>17769</th>\n",
       "      <td>17770</td>\n",
       "      <td>2003.0</td>\n",
       "      <td>Alien Hunter</td>\n",
       "    </tr>\n",
       "  </tbody>\n",
       "</table>\n",
       "</div>"
      ],
      "text/plain": [
       "       MovieID  Year_of_Release  \\\n",
       "17765    17766           2002.0   \n",
       "17766    17767           2004.0   \n",
       "17767    17768           2000.0   \n",
       "17768    17769           2003.0   \n",
       "17769    17770           2003.0   \n",
       "\n",
       "                                             Movie_Title  \n",
       "17765  Where the Wild Things Are and Other Maurice Se...  \n",
       "17766                  Fidel Castro: American Experience  \n",
       "17767                                              Epoch  \n",
       "17768                                        The Company  \n",
       "17769                                       Alien Hunter  "
      ]
     },
     "execution_count": 47,
     "metadata": {},
     "output_type": "execute_result"
    }
   ],
   "source": [
    "movie_new.tail()"
   ]
  },
  {
   "cell_type": "code",
   "execution_count": 48,
   "metadata": {},
   "outputs": [],
   "source": [
    "movie_new=movie_new.drop(columns=['Year_of_Release'])"
   ]
  },
  {
   "cell_type": "code",
   "execution_count": 49,
   "metadata": {},
   "outputs": [
    {
     "data": {
      "text/plain": [
       "17765"
      ]
     },
     "execution_count": 49,
     "metadata": {},
     "output_type": "execute_result"
    }
   ],
   "source": [
    "int(movie_new[movie_new['Movie_Title'].str.match(\"Godzilla's Revenge\")][\"MovieID\"].values)"
   ]
  },
  {
   "cell_type": "code",
   "execution_count": 51,
   "metadata": {},
   "outputs": [],
   "source": [
    "k=3\n",
    "def get_similar_movies():\n",
    "    for VMRS in range(k):\n",
    "        movieID_GR=0\n",
    "        try:\n",
    "            name=input(\"Enter Movie Name:\")\n",
    "            movieID_GR=int(movie_new[movie_new['Movie_Title'].str.match(name)][\"MovieID\"].values)\n",
    "            print(\"\\nMovie ID :\",movieID_GR)\n",
    "            #movieID_GR= int(input(\"Enter the Movie ID :\"))\n",
    "            if(movieID_GR<17770):                \n",
    "                break\n",
    "            else:\n",
    "                print(\"Invalid entry\")\n",
    "        except ValueError:\n",
    "            print(\"Invalid Input\")\n",
    "    if(movieID_GR==0):\n",
    "        return\n",
    "    \n",
    "    cprint (\"\\nName of the movie -------> \"+str(movie_titles.loc[movieID_GR][1]),'blue',attrs=['underline','dark','bold'])\n",
    "    cprint(\"\\nNumber of ratings by users for movie {} is {}\".format(movie_titles.loc[movieID_GR][1], TrainUISparseData[:,movieID_GR].getnnz()),'red', attrs=['underline','bold'])\n",
    "    cprint(\"\\nNumber of similar movies to {} is {}\".format(movie_titles.loc[movieID_GR][1], m_m_similarity[movieID_GR].count_nonzero()),'grey',attrs=['underline','bold'])\n",
    "    cprint(\"\\nTop 10 Similar Movies \\n\\n\"+str(pd.DataFrame(movie_titles.loc[similar_movies_dict[movieID_GR][:10]])),attrs=['bold'])"
   ]
  },
  {
   "cell_type": "code",
   "execution_count": 53,
   "metadata": {},
   "outputs": [
    {
     "name": "stdout",
     "output_type": "stream",
     "text": [
      "Enter Movie Name:Godzilla's Revenge\n",
      "\n",
      "Movie ID : 17765\n",
      "\u001b[1m\u001b[2m\u001b[4m\u001b[34m\n",
      "Name of the movie -------> Godzilla's Revenge\u001b[0m\n",
      "\u001b[1m\u001b[4m\u001b[31m\n",
      "Number of ratings by users for movie Godzilla's Revenge is 4\u001b[0m\n",
      "\u001b[1m\u001b[4m\u001b[30m\n",
      "Number of similar movies to Godzilla's Revenge is 1703\u001b[0m\n",
      "\u001b[1m\n",
      "Top 10 Similar Movies \n",
      "\n",
      "         Year_of_Release                                        Movie_Title\n",
      "MovieID                                                                    \n",
      "6293              1998.0                                         The Colony\n",
      "3761              1999.0  Salsa & Merengue: Cal Pozo's Learn to Dance in...\n",
      "14846             1922.0                                 Cyrano de Bergerac\n",
      "1635              1997.0                               Striking Resemblance\n",
      "10181             1999.0                  Godzilla And Other Movie Monsters\n",
      "13221             1999.0                                        Rowdy Girls\n",
      "9318              1979.0                                 The Real Bruce Lee\n",
      "12048             1999.0               Timegate: Tales of the Saddle Tramps\n",
      "4077              1998.0                              The First 9 1/2 Weeks\n",
      "15810             1964.0                                Godzilla vs. Mothra\u001b[0m\n"
     ]
    }
   ],
   "source": [
    "#function use for finding the similar movies\n",
    "get_similar_movies()"
   ]
  },
  {
   "cell_type": "markdown",
   "metadata": {},
   "source": [
    "# Train KNN model for item-based collaborative filtering"
   ]
  },
  {
   "cell_type": "code",
   "execution_count": 31,
   "metadata": {},
   "outputs": [],
   "source": [
    "# pivot and create movie-user matrix\n",
    "movie_user_mat = Final_Data.pivot(index='MovieID', columns='CustID', values='Ratings').fillna(0)\n",
    "# create mapper from movie title to index\n",
    "movie_to_idx = {\n",
    "    movie: i for i, movie in \n",
    "    enumerate(list(movie_new.set_index('MovieID').loc[movie_user_mat.index].Movie_Title))\n",
    "}\n",
    "# transform matrix to scipy sparse matrix\n",
    "movie_user_mat_sparse = csr_matrix(movie_user_mat.values)"
   ]
  },
  {
   "cell_type": "code",
   "execution_count": 32,
   "metadata": {},
   "outputs": [
    {
     "name": "stdout",
     "output_type": "stream",
     "text": [
      "env: JOBLIB_TEMP_FOLDER=/tmp\n"
     ]
    },
    {
     "data": {
      "text/plain": [
       "NearestNeighbors(algorithm='brute', leaf_size=30, metric='cosine',\n",
       "                 metric_params=None, n_jobs=-1, n_neighbors=20, p=2,\n",
       "                 radius=1.0)"
      ]
     },
     "execution_count": 32,
     "metadata": {},
     "output_type": "execute_result"
    }
   ],
   "source": [
    "%env JOBLIB_TEMP_FOLDER=/tmp\n",
    "# define model\n",
    "model_knn = NearestNeighbors(metric='cosine', algorithm='brute', n_neighbors=20, n_jobs=-1)\n",
    "# fit\n",
    "model_knn.fit(TrainUISparseData)"
   ]
  },
  {
   "cell_type": "markdown",
   "metadata": {},
   "source": [
    " ## Use this trained model to make movie recommendations to myself\n"
   ]
  },
  {
   "cell_type": "code",
   "execution_count": 33,
   "metadata": {},
   "outputs": [],
   "source": [
    "def fuzzy_matching(mapper, fav_movie, verbose=True):\n",
    "    \"\"\"\n",
    "    return the closest match via fuzzy ratio. If no match found, return None\n",
    "    \n",
    "    Parameters\n",
    "    ----------    \n",
    "    mapper: dict, map movie title name to index of the movie in data\n",
    "\n",
    "    fav_movie: str, name of user input movie\n",
    "    \n",
    "    verbose: bool, print log if True\n",
    "\n",
    "    Return\n",
    "    ------\n",
    "    index of the closest match\n",
    "    \"\"\"\n",
    "    match_tuple = []\n",
    "    # get match\n",
    "    for title, idx in mapper.items():\n",
    "        ratio = fuzz.ratio(title.lower(), fav_movie.lower())\n",
    "        if ratio >= 60:\n",
    "            match_tuple.append((title, idx, ratio))\n",
    "    # sort\n",
    "    match_tuple = sorted(match_tuple, key=lambda x: x[2])[::-1]\n",
    "    if not match_tuple:\n",
    "        print('Oops! No match is found')\n",
    "        return\n",
    "    if verbose:\n",
    "        print('Found possible matches in our database: {0}\\n'.format([x[0] for x in match_tuple]))\n",
    "    return match_tuple[0][1]\n",
    "\n",
    "\n",
    "\n",
    "def make_recommendation(model_knn, data, mapper, fav_movie, n_recommendations):\n",
    "    \"\"\"\n",
    "    return top n similar movie recommendations based on user's input movie\n",
    "\n",
    "\n",
    "    Parameters\n",
    "    ----------\n",
    "    model_knn: sklearn model, knn model\n",
    "\n",
    "    data: movie-user matrix\n",
    "\n",
    "    mapper: dict, map movie title name to index of the movie in data\n",
    "\n",
    "    fav_movie: str, name of user input movie\n",
    "\n",
    "    n_recommendations: int, top n recommendations\n",
    "\n",
    "    Return\n",
    "    ------\n",
    "    list of top n similar movie recommendations\n",
    "    \"\"\"\n",
    "    # fit\n",
    "    model_knn.fit(data)\n",
    "    # get input movie index\n",
    "    print('You have input movie:', fav_movie)\n",
    "    idx = fuzzy_matching(mapper, fav_movie, verbose=True)\n",
    "    # inference\n",
    "    print('Recommendation system start to make inference')\n",
    "    print('......\\n')\n",
    "    distances, indices = model_knn.kneighbors(data[idx], n_neighbors=n_recommendations+1)\n",
    "    # get list of raw idx of recommendations\n",
    "    raw_recommends = \\\n",
    "        sorted(list(zip(indices.squeeze().tolist(), distances.squeeze().tolist())), key=lambda x: x[1])[:0:-1]\n",
    "    # get reverse mapper\n",
    "    reverse_mapper = {v: k for k, v in mapper.items()}\n",
    "    # print recommendations\n",
    "    print('Recommendations for {}:'.format(fav_movie))\n",
    "    for i, (idx, dist) in enumerate(raw_recommends):\n",
    "        print('{0}: {1}, with distance of {2}'.format(i+1, reverse_mapper[idx], dist))"
   ]
  },
  {
   "cell_type": "code",
   "execution_count": 36,
   "metadata": {},
   "outputs": [
    {
     "name": "stdout",
     "output_type": "stream",
     "text": [
      "You have input movie: Stand by Me\n",
      "Found possible matches in our database: ['Stand by Me', 'Pat and Mike']\n",
      "\n",
      "Recommendation system start to make inference\n",
      "......\n",
      "\n",
      "Recommendations for Stand by Me:\n",
      "1: Lethal Weapon, with distance of 0.4263755481655076\n",
      "2: Ferris Bueller's Day Off, with distance of 0.42565386718607534\n",
      "3: The Terminator, with distance of 0.42281827929838756\n",
      "4: A Few Good Men, with distance of 0.42169156484558834\n",
      "5: Ghostbusters, with distance of 0.42065292633016227\n",
      "6: Good Morning, with distance of 0.41930667995010373\n",
      "7: The Silence of the Lambs, with distance of 0.4192929214088327\n",
      "8: Die Hard, with distance of 0.41566023265570684\n",
      "9: Big, with distance of 0.411291169899234\n",
      "10: The Fugitive, with distance of 0.4078886605064338\n"
     ]
    }
   ],
   "source": [
    "my_favorite = \"Stand by Me\"\n",
    "make_recommendation(\n",
    "    model_knn=model_knn,\n",
    "    data=movie_user_mat_sparse,\n",
    "    fav_movie=my_favorite,\n",
    "    mapper=movie_to_idx,\n",
    "    n_recommendations=10)"
   ]
  },
  {
   "cell_type": "code",
   "execution_count": null,
   "metadata": {},
   "outputs": [],
   "source": []
  }
 ],
 "metadata": {
  "kernelspec": {
   "display_name": "Python 3",
   "language": "python",
   "name": "python3"
  },
  "language_info": {
   "codemirror_mode": {
    "name": "ipython",
    "version": 3
   },
   "file_extension": ".py",
   "mimetype": "text/x-python",
   "name": "python",
   "nbconvert_exporter": "python",
   "pygments_lexer": "ipython3",
   "version": "3.7.3"
  }
 },
 "nbformat": 4,
 "nbformat_minor": 2
}
